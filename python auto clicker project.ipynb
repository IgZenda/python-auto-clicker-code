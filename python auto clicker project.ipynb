{
 "cells": [
  {
   "cell_type": "code",
   "execution_count": null,
   "id": "d79a44da",
   "metadata": {},
   "outputs": [],
   "source": [
    "#Loading Libraries\n",
    "import pandas as pd\n",
    "import numpy as np\n",
    "import seaborn as sns\n",
    "import matplotlib.pyplot as plt\n",
    "from mlxtend.preprocessing import TransactionEncoder\n",
    "from mlxtend.frequent_patterns import apriori\n",
    "from mlxtend.frequent_patterns import association_rules\n",
    "import warnings\n",
    "warnings.filterwarnings('ignore')"
   ]
  },
  {
   "cell_type": "code",
   "execution_count": 2,
   "id": "26bc5099",
   "metadata": {},
   "outputs": [
    {
     "name": "stdout",
     "output_type": "stream",
     "text": [
      "Requirement already satisfied: pynput in /opt/anaconda3/lib/python3.11/site-packages (1.7.7)\r\n",
      "Requirement already satisfied: six in /opt/anaconda3/lib/python3.11/site-packages (from pynput) (1.16.0)\r\n",
      "Requirement already satisfied: pyobjc-framework-ApplicationServices>=8.0 in /opt/anaconda3/lib/python3.11/site-packages (from pynput) (10.3.1)\r\n",
      "Requirement already satisfied: pyobjc-framework-Quartz>=8.0 in /opt/anaconda3/lib/python3.11/site-packages (from pynput) (10.3.1)\r\n",
      "Requirement already satisfied: pyobjc-core>=10.3.1 in /opt/anaconda3/lib/python3.11/site-packages (from pyobjc-framework-ApplicationServices>=8.0->pynput) (10.3.1)\r\n",
      "Requirement already satisfied: pyobjc-framework-Cocoa>=10.3.1 in /opt/anaconda3/lib/python3.11/site-packages (from pyobjc-framework-ApplicationServices>=8.0->pynput) (10.3.1)\r\n",
      "Requirement already satisfied: pyobjc-framework-CoreText>=10.3.1 in /opt/anaconda3/lib/python3.11/site-packages (from pyobjc-framework-ApplicationServices>=8.0->pynput) (10.3.1)\r\n"
     ]
    }
   ],
   "source": [
    "!pip install pynput"
   ]
  },
  {
   "cell_type": "code",
   "execution_count": null,
   "id": "1eaadfea",
   "metadata": {},
   "outputs": [],
   "source": [
    "# importing time and threading \n",
    "import time \n",
    "import threading \n",
    "from pynput.mouse import Button, Controller \n",
    "\n",
    "# pynput.keyboard is used to watch events of \n",
    "# keyboard for start and stop of auto-clicker \n",
    "from pynput.keyboard import Listener, KeyCode \n"
   ]
  },
  {
   "cell_type": "code",
   "execution_count": null,
   "id": "425ee784",
   "metadata": {},
   "outputs": [],
   "source": [
    "# four variables are created to \n",
    "# control the auto-clicker \n",
    "delay = 0.001\n",
    "button = Button.right \n",
    "start_stop_key = KeyCode(char='a') \n",
    "stop_key = KeyCode(char='b') \n"
   ]
  },
  {
   "cell_type": "code",
   "execution_count": null,
   "id": "2980ac6b",
   "metadata": {},
   "outputs": [],
   "source": [
    "# threading.Thread is used \n",
    "# to control clicks \n",
    "class ClickMouse(threading.Thread): \n",
    "\t\n",
    "# delay and button is passed in class \n",
    "# to check execution of auto-clicker \n",
    "\tdef __init__(self, delay, button): \n",
    "\t\tsuper(ClickMouse, self).__init__() \n",
    "\t\tself.delay = delay \n",
    "\t\tself.button = button \n",
    "\t\tself.running = False\n",
    "\t\tself.program_running = True\n"
   ]
  },
  {
   "cell_type": "code",
   "execution_count": null,
   "id": "dd73138e",
   "metadata": {},
   "outputs": [],
   "source": [
    "def start_clicking(self): \n",
    "\t\tself.running = True\n",
    "\n",
    "def stop_clicking(self): \n",
    "\t\tself.running = False\n",
    "\n",
    "def exit(self): \n",
    "\t\tself.stop_clicking() \n",
    "\t\tself.program_running = False\n"
   ]
  },
  {
   "cell_type": "code",
   "execution_count": null,
   "id": "e10a9f2d",
   "metadata": {},
   "outputs": [],
   "source": [
    "# method to check and run loop until \n",
    "# it is true another loop will check \n",
    "# if it is set to true or not, \n",
    "# for mouse click it set to button \n",
    "# and delay. \n",
    "def run(self): \n",
    "\twhile self.program_running: \n",
    "\t\twhile self.running: \n",
    "\t\t\tmouse.click(self.button) \n",
    "\t\t\ttime.sleep(self.delay) \n",
    "\t\ttime.sleep(0.1)\n"
   ]
  },
  {
   "cell_type": "code",
   "execution_count": null,
   "id": "dff570c6",
   "metadata": {},
   "outputs": [],
   "source": [
    "# on_press method takes \n",
    "# key as argument \n",
    "\n",
    "\n",
    "def on_press(key): \n",
    "\n",
    "# start_stop_key will stop clicking \n",
    "# if running flag is set to true \n",
    "\tif key == start_stop_key: \n",
    "\t\tif click_thread.running: \n",
    "\t\t\tclick_thread.stop_clicking() \n",
    "\t\telse: \n",
    "\t\t\tclick_thread.start_clicking() \n",
    "\n",
    "\t# here exit method is called and when \n",
    "\t# key is pressed it terminates auto clicker \n",
    "\telif key == stop_key: \n",
    "\t\tclick_thread.exit() \n",
    "\t\tlistener.stop() \n",
    "\n",
    "\n",
    "with Listener(on_press=on_press) as listener: \n",
    "\tlistener.join() \n"
   ]
  },
  {
   "cell_type": "code",
   "execution_count": null,
   "id": "44526003",
   "metadata": {},
   "outputs": [],
   "source": []
  }
 ],
 "metadata": {
  "kernelspec": {
   "display_name": "Python 3 (ipykernel)",
   "language": "python",
   "name": "python3"
  },
  "language_info": {
   "codemirror_mode": {
    "name": "ipython",
    "version": 3
   },
   "file_extension": ".py",
   "mimetype": "text/x-python",
   "name": "python",
   "nbconvert_exporter": "python",
   "pygments_lexer": "ipython3",
   "version": "3.11.7"
  }
 },
 "nbformat": 4,
 "nbformat_minor": 5
}
